{
 "cells": [
  {
   "cell_type": "markdown",
   "metadata": {},
   "source": [
    "# Testing Axonal Contamination\n",
    "\n",
    "Axons propagate somatic signal within 5ms time - more or less instantly with respect to 50ms sampling timescale. So, observing axons from another population is effectively crosstalk between instantaneous signals.\n",
    "\n",
    "Questions of interest:\n",
    "* Do metrics perform well in strict sense?\n",
    "* Do metrics perform well in loose sense?\n",
    "\n",
    "**Model 1**: 2-node no link hypothesis\n",
    "* 2 completely uncorrelated\n",
    "* FC estimated at lags [1 to 5]\n",
    "* Add symmetric cross-talk of a factor alpha, sweep over alpha in [0, 1]\n",
    "* With and without kernel convolution\n",
    "\n",
    "**Model 2**: 2-node one link hypothesis\n",
    "* 2 regions interacting at 1 lag of [1 to 5] with fraction 0.5 and low noise\n",
    "* FC estimated at lags [1 to 5]\n",
    "* Add symmetric cross-talk of a factor alpha, sweep over alpha in [0, 1]\n",
    "* With and without kernel convolution\n",
    "\n",
    "Accuracy measures:\n",
    "* Strict TP: Fraction tests where FC significant at right lag\n",
    "* Strict FP: Fraction tests where FC significant at at least one wrong lag\n",
    "* Loose TP: Fraction tests where highest FC at right lag and significant\n",
    "* Loose FP: Fraction tests where highest FC at wrong lag and significant\n",
    "\n",
    "**Model 2**: 3D effects\n",
    "* 3 regions, FC between (1)->(2) at fixed lag\n",
    "* Cross-talk between (1) and (3)\n",
    "* Estimate only mTE\n",
    "* Strict TP: Fraction tests where (1)->(2) significant\n",
    "* Strict FP: Fraction tests where (3)->(2) significant"
   ]
  },
  {
   "cell_type": "code",
   "execution_count": 1,
   "metadata": {},
   "outputs": [
    {
     "name": "stdout",
     "output_type": "stream",
     "text": [
      "Appended root directory /home/alyosha/work/mesoscopic-functional-connectivity\n"
     ]
    }
   ],
   "source": [
    "# Append base directory\n",
    "import os,sys,inspect\n",
    "rootname = \"mesoscopic-functional-connectivity\"\n",
    "thispath = os.getcwd()\n",
    "rootpath = os.path.join(thispath[:thispath.index(rootname)], rootname)\n",
    "sys.path.append(rootpath)\n",
    "print(\"Appended root directory\", rootpath)\n",
    "\n",
    "\n",
    "%load_ext autoreload\n",
    "%autoreload 2"
   ]
  },
  {
   "cell_type": "code",
   "execution_count": 2,
   "metadata": {},
   "outputs": [],
   "source": [
    "from mesostat.metric.metric import MetricCalculator\n",
    "mc = MetricCalculator(serial=True, verbose=False)"
   ]
  },
  {
   "cell_type": "code",
   "execution_count": 3,
   "metadata": {},
   "outputs": [],
   "source": [
    "import code_python.lib.null.axonal_simulations as axsim"
   ]
  },
  {
   "cell_type": "code",
   "execution_count": null,
   "metadata": {
    "scrolled": false
   },
   "outputs": [
    {
     "name": "stdout",
     "output_type": "stream",
     "text": [
      "Doing method crosscorr raw\n"
     ]
    }
   ],
   "source": [
    "axsim.crosstalk_test_two_node_negative(mc, ['crosscorr'], testConv=True, nCTDiscr=10,\n",
    "                  nTest=50, maxLag=5, pTHR=0.01, noiseFrac=0.01, convDT=0.05, convTau=0.5)"
   ]
  },
  {
   "cell_type": "code",
   "execution_count": null,
   "metadata": {
    "scrolled": false
   },
   "outputs": [],
   "source": [
    "axsim.crosstalk_test_two_node_positive(mc, ['MultivariateTE'], testConv=True, nCTDiscr=10,\n",
    "                  nTest=50, maxLag=5, pTHR=0.01, noiseFrac=0.01, connStr=0.5, convDT=0.05, convTau=0.5)"
   ]
  },
  {
   "cell_type": "code",
   "execution_count": null,
   "metadata": {},
   "outputs": [],
   "source": [
    "axsim.crosstalk_test_three_node_positive(mc, ['MultivariateTE'], testConv=True, nCTDiscr=10, nData=2000,\n",
    "                  nTest=50, maxLag=5, pTHR=0.01, noiseFrac=0.01, connStr=0.5, convDT=0.05, convTau=0.5)"
   ]
  },
  {
   "cell_type": "code",
   "execution_count": null,
   "metadata": {},
   "outputs": [],
   "source": []
  },
  {
   "cell_type": "code",
   "execution_count": null,
   "metadata": {},
   "outputs": [],
   "source": []
  },
  {
   "cell_type": "code",
   "execution_count": null,
   "metadata": {},
   "outputs": [],
   "source": [
    "nTest = 20\n",
    "maxLag = 5\n",
    "\n",
    "idtxlParam = {\n",
    "    'dim_order'       : 'ps',\n",
    "    'cmi_estimator'   : 'JidtGaussianCMI',\n",
    "    'max_lag_sources' : maxLag,\n",
    "    'min_lag_sources' : 0,\n",
    "    'parallelTrg' : False\n",
    "}\n",
    "\n",
    "for method in ['BivariateTE', 'MultivariateTE']:\n",
    "    print('Doing method', method)\n",
    "    rezMat = np.zeros((maxLag+1, maxLag+1))\n",
    "    for lagTrue in range(0, maxLag+1):\n",
    "        for iTest in range(nTest):\n",
    "            data = two_node_system(200, [lagTrue], [0.5], noiseFrac=0.01, convDT=0.05, convTau=0.5, crossYX=0.2)\n",
    "            mc.set_data(data, 'ps')\n",
    "            rez = mc.metric3D(method, '', metricSettings=idtxlParam)            \n",
    "            if not np.isnan(rez[1, 0, 1]):\n",
    "                lagEst = int(rez[1, 0, 1])\n",
    "                rezMat[lagTrue][lagEst] += 1\n",
    "    \n",
    "    print(\"Accuracy\", acc(rezMat, nTest))\n",
    "    print(\"Accuracy-corrected\", acc_te_lag_corrected(rezMat, nTest))\n",
    "    \n",
    "    plt.figure()\n",
    "    plt.imshow(rezMat)\n",
    "    plt.show()"
   ]
  }
 ],
 "metadata": {
  "kernelspec": {
   "display_name": "Python 3.8 (IDTxl)",
   "language": "python",
   "name": "py38idtxl"
  },
  "language_info": {
   "codemirror_mode": {
    "name": "ipython",
    "version": 3
   },
   "file_extension": ".py",
   "mimetype": "text/x-python",
   "name": "python",
   "nbconvert_exporter": "python",
   "pygments_lexer": "ipython3",
   "version": "3.8.10"
  }
 },
 "nbformat": 4,
 "nbformat_minor": 2
}
