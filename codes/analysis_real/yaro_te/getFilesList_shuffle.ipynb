{
 "cells": [
  {
   "cell_type": "code",
   "execution_count": 23,
   "metadata": {},
   "outputs": [
    {
     "name": "stdout",
     "output_type": "stream",
     "text": [
      "Appended library directory /media/aleksejs/DataHDD/work/codes/comp-neuro/analysis-mesoscopic/mesoscopic-functional-connectivity/codes/lib\n",
      "The autoreload extension is already loaded. To reload it, use:\n",
      "  %reload_ext autoreload\n"
     ]
    }
   ],
   "source": [
    "# Standard libraries\n",
    "import json\n",
    "import numpy as np\n",
    "\n",
    "# Append base directory\n",
    "import os,sys,inspect\n",
    "currentdir = os.path.dirname(os.path.abspath(inspect.getfile(inspect.currentframe())))\n",
    "path1p = os.path.dirname(currentdir)\n",
    "path2p = os.path.dirname(path1p)\n",
    "libpath = os.path.join(path2p, \"lib\")\n",
    "\n",
    "sys.path.insert(0, libpath)\n",
    "print(\"Appended library directory\", libpath)\n",
    "\n",
    "# User libraries\n",
    "from data_io.os_lib import getfiles_walk\n",
    "from data_io.qt_wrapper import gui_fpath\n",
    "\n",
    "%load_ext autoreload\n",
    "%autoreload 2"
   ]
  },
  {
   "cell_type": "code",
   "execution_count": 26,
   "metadata": {},
   "outputs": [],
   "source": [
    "# Step 1: Get all data files\n",
    "thisFolder = './'\n",
    "allFolders = []\n",
    "while thisFolder != '':\n",
    "    thisFolder = gui_fpath(\"Root folder for data files\", thisFolder)\n",
    "    if thisFolder != '':\n",
    "        folders = getfiles_walk(thisFolder, ['behaviorvar'])[:, 0]\n",
    "        allFolders += list(folders)"
   ]
  },
  {
   "cell_type": "code",
   "execution_count": 27,
   "metadata": {},
   "outputs": [
    {
     "name": "stdout",
     "output_type": "stream",
     "text": [
      "nFiles to subtract 7\n",
      "nFiles before subtract 221\n",
      "nFiles after subtract 214\n"
     ]
    }
   ],
   "source": [
    "# Step 2: Subtract files that are already done\n",
    "doneFileNames = [\n",
    "'mtp_1_2015_06_18_b',\n",
    "'mvg_4_2017_11_10_a',\n",
    "'mvg_4_2017_11_13_a',\n",
    "'mvg_4_2017_11_14_a',\n",
    "'mvg_4_2017_11_15_a',\n",
    "'mvg_4_2017_11_16_a',\n",
    "'mvg_4_2017_11_17_a']\n",
    "\n",
    "print(\"nFiles to subtract\", len(doneFileNames))\n",
    "print(\"nFiles before subtract\", len(allFolders))\n",
    "allFoldersSub = [thisName for thisName in allFolders if ~np.any([doneName in thisName for doneName in doneFileNames])]\n",
    "print(\"nFiles after subtract\", len(allFoldersSub))"
   ]
  },
  {
   "cell_type": "code",
   "execution_count": 28,
   "metadata": {},
   "outputs": [
    {
     "name": "stdout",
     "output_type": "stream",
     "text": [
      "For machine 0 the folder indices are 0 21\n",
      "For machine 1 the folder indices are 21 42\n",
      "For machine 2 the folder indices are 42 64\n",
      "For machine 3 the folder indices are 64 85\n",
      "For machine 4 the folder indices are 85 107\n",
      "For machine 5 the folder indices are 107 128\n",
      "For machine 6 the folder indices are 128 149\n",
      "For machine 7 the folder indices are 149 171\n",
      "For machine 8 the folder indices are 171 192\n",
      "For machine 9 the folder indices are 192 214\n"
     ]
    }
   ],
   "source": [
    "# Step 3: Shuffle, split to N machines and write to files\n",
    "nMachines = 10\n",
    "nFolders = len(allFoldersSub)\n",
    "allFoldersSubShuff = np.random.permutation(allFoldersSub)\n",
    "for i in range(nMachines):\n",
    "    l = nFolders * (i) // nMachines\n",
    "    r = nFolders * (i+1) // nMachines\n",
    "    print(\"For machine\", i, \"the folder indices are\", l, r)\n",
    "    \n",
    "    with open('foldersMachine'+str(i)+'.json', 'w') as f:\n",
    "        json.dump({\"dataFolders\" : list(allFoldersSubShuff[l:r])}, f)"
   ]
  },
  {
   "cell_type": "code",
   "execution_count": null,
   "metadata": {
    "collapsed": true
   },
   "outputs": [],
   "source": []
  }
 ],
 "metadata": {
  "kernelspec": {
   "display_name": "Python (py36qt5)",
   "language": "python",
   "name": "py36qt5"
  },
  "language_info": {
   "codemirror_mode": {
    "name": "ipython",
    "version": 3
   },
   "file_extension": ".py",
   "mimetype": "text/x-python",
   "name": "python",
   "nbconvert_exporter": "python",
   "pygments_lexer": "ipython3",
   "version": "3.6.4"
  }
 },
 "nbformat": 4,
 "nbformat_minor": 2
}
